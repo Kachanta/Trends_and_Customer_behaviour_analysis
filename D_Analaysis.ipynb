{
 "cells": [
  {
   "cell_type": "markdown",
   "id": "62783030-5512-4782-800c-1ce7916eca06",
   "metadata": {
    "jp-MarkdownHeadingCollapsed": true,
    "tags": []
   },
   "source": [
    "# Analysis of Customers Trends and Behaviour and Modeling with KMeans\n",
    "---\n",
    "## Problem Formulation\n",
    "A company that specialises in high-quality bikes and accessible cycling accessories to riders have provided data for analysis. This is to assist Their marketing team to boost business sells by studying the customers behaviours and trends.\n",
    "\n",
    "**DATA SOURCE:** Sprocket Central Pty Ltd.\n",
    "\n",
    "## Background \n",
    "This project involves the analysis of a business data. The retail business operates both online and offline, sells a range of bikes. we want to gain insights into the company's performance and identify areas for improvement. majorely in their customer targetting. The project was divided into several phases.\n",
    "\n",
    "The first phase involved data cleaning and preprocessing, as well as exploratory data analysis (EDA). Data cleaning involved identifying missing values, duplicates, and inconsistencies in the data and correcting them to ensure that the data was accurate and reliable. EDA involved visualizing and summarizing the data to identify patterns and relationships between variables. The EDA phase focused on identifying trends in sales and customer behavior, as well as identifying any correlations between customer demographics and purchasing habits.\n",
    "\n",
    "The second phase involved segmentation modeling with KMeans clustering. Segmentation modeling involved grouping customers into segments based on their similarities in terms of demographics, purchasing habits, and other factors. KMeans clustering was used to group customers into clusters based on their purchasing behavior and other factors.\n",
    "\n",
    "The third and final phase involved deployment and report with visualization. The findings from the segmentation modeling phase were deployed in the form of an interactive dashboard and report with visualizations. The dashboard provided the company's management team with real-time insights into its performance, including sales trends, customer behavior, and other key performance indicators. The report with visualizations provided a detailed analysis of the data and recommendations for improvement based on the findings.\n",
    "\n",
    "\n",
    "\n",
    "\n",
    "\n",
    "\n"
   ]
  },
  {
   "cell_type": "code",
   "execution_count": 1,
   "id": "ec8e5d3a-905d-4b3a-aed5-aa9c86868e2e",
   "metadata": {},
   "outputs": [],
   "source": [
    "# Imoprting Relevant Libraries  \n",
    "import pandas as pd\n",
    "import numpy as np\n",
    "import warnings\n",
    "import matplotlib.pyplot as plt\n",
    "import seaborn as sns \n",
    "sns.set()\n",
    "import plotly.express as px\n",
    "import pytz"
   ]
  },
  {
   "cell_type": "markdown",
   "id": "04e0be74-6f40-4751-aab8-e5e2bd3c9bdb",
   "metadata": {},
   "source": [
    "Our primary objective is to use past transaction data, cunstomer Demography and customer address to be able to segment the new customer data apropriately for marketting campaing"
   ]
  },
  {
   "cell_type": "code",
   "execution_count": 2,
   "id": "41caa08e-f96e-4826-8214-13b9b687be22",
   "metadata": {},
   "outputs": [
    {
     "name": "stderr",
     "output_type": "stream",
     "text": [
      "C:\\Users\\user\\AppData\\Local\\Temp/ipykernel_4088/3162547210.py:3: FutureWarning: Inferring datetime64[ns] from data containing strings is deprecated and will be removed in a future version. To retain the old behavior explicitly pass Series(data, dtype={value.dtype})\n",
      "  newcustomerlist = pd.read_excel(\"KPMG_VI_New_raw_data_update_final (1).xlsx\", sheet_name = 2, header = 1)\n",
      "C:\\Users\\user\\AppData\\Local\\Temp/ipykernel_4088/3162547210.py:4: FutureWarning: Inferring datetime64[ns] from data containing strings is deprecated and will be removed in a future version. To retain the old behavior explicitly pass Series(data, dtype={value.dtype})\n",
      "  customerdemo = pd.read_excel(\"KPMG_VI_New_raw_data_update_final (1).xlsx\", sheet_name = 3, header = 1)\n"
     ]
    }
   ],
   "source": [
    "# importing all the data sets obtain from the company \n",
    "transactions = pd.read_excel(\"KPMG_VI_New_raw_data_update_final (1).xlsx\", sheet_name =1, header = 1)\n",
    "newcustomerlist = pd.read_excel(\"KPMG_VI_New_raw_data_update_final (1).xlsx\", sheet_name = 2, header = 1)\n",
    "customerdemo = pd.read_excel(\"KPMG_VI_New_raw_data_update_final (1).xlsx\", sheet_name = 3, header = 1)\n",
    "customeraddress = pd.read_excel(\"KPMG_VI_New_raw_data_update_final (1).xlsx\", sheet_name = 4, header = 1)"
   ]
  },
  {
   "cell_type": "markdown",
   "id": "449d1623-c585-4c0c-b97e-bf8ed833437f",
   "metadata": {
    "tags": []
   },
   "source": [
    "# Data Preprocessing \n",
    "### Exploratory Data Analysis and Cleaning\n",
    "Our first task to explore the datasets and identify all data quality issues and handle them. We will explore the data set one after the other starting with starting with the transactions which will be the bases for other exploration "
   ]
  },
  {
   "cell_type": "markdown",
   "id": "be27257e-906c-4feb-b1c5-db6ec056e32f",
   "metadata": {},
   "source": [
    "\n"
   ]
  },
  {
   "cell_type": "code",
   "execution_count": 3,
   "id": "34760bc2-6e3b-4ff9-a64a-54f5a722ec43",
   "metadata": {},
   "outputs": [
    {
     "data": {
      "text/plain": [
       "(20000, 13)"
      ]
     },
     "execution_count": 3,
     "metadata": {},
     "output_type": "execute_result"
    }
   ],
   "source": [
    "# visualising the transaction dataset\n",
    "transac = transactions.copy()\n",
    "transac.shape"
   ]
  },
  {
   "cell_type": "code",
   "execution_count": 4,
   "id": "8c5aa718-b896-45c2-9a70-6766d8b8dead",
   "metadata": {},
   "outputs": [
    {
     "data": {
      "text/html": [
       "<div>\n",
       "<style scoped>\n",
       "    .dataframe tbody tr th:only-of-type {\n",
       "        vertical-align: middle;\n",
       "    }\n",
       "\n",
       "    .dataframe tbody tr th {\n",
       "        vertical-align: top;\n",
       "    }\n",
       "\n",
       "    .dataframe thead th {\n",
       "        text-align: right;\n",
       "    }\n",
       "</style>\n",
       "<table border=\"1\" class=\"dataframe\">\n",
       "  <thead>\n",
       "    <tr style=\"text-align: right;\">\n",
       "      <th></th>\n",
       "      <th>transaction_id</th>\n",
       "      <th>product_id</th>\n",
       "      <th>customer_id</th>\n",
       "      <th>transaction_date</th>\n",
       "      <th>online_order</th>\n",
       "      <th>order_status</th>\n",
       "      <th>brand</th>\n",
       "      <th>product_line</th>\n",
       "      <th>product_class</th>\n",
       "      <th>product_size</th>\n",
       "      <th>list_price</th>\n",
       "      <th>standard_cost</th>\n",
       "      <th>product_first_sold_date</th>\n",
       "    </tr>\n",
       "  </thead>\n",
       "  <tbody>\n",
       "    <tr>\n",
       "      <th>0</th>\n",
       "      <td>1</td>\n",
       "      <td>2</td>\n",
       "      <td>2950</td>\n",
       "      <td>2017-02-25</td>\n",
       "      <td>0.0</td>\n",
       "      <td>Approved</td>\n",
       "      <td>Solex</td>\n",
       "      <td>Standard</td>\n",
       "      <td>medium</td>\n",
       "      <td>medium</td>\n",
       "      <td>71.49</td>\n",
       "      <td>53.62</td>\n",
       "      <td>2012-12-02</td>\n",
       "    </tr>\n",
       "    <tr>\n",
       "      <th>1</th>\n",
       "      <td>2</td>\n",
       "      <td>3</td>\n",
       "      <td>3120</td>\n",
       "      <td>2017-05-21</td>\n",
       "      <td>1.0</td>\n",
       "      <td>Approved</td>\n",
       "      <td>Trek Bicycles</td>\n",
       "      <td>Standard</td>\n",
       "      <td>medium</td>\n",
       "      <td>large</td>\n",
       "      <td>2091.47</td>\n",
       "      <td>388.92</td>\n",
       "      <td>2014-03-03</td>\n",
       "    </tr>\n",
       "    <tr>\n",
       "      <th>2</th>\n",
       "      <td>3</td>\n",
       "      <td>37</td>\n",
       "      <td>402</td>\n",
       "      <td>2017-10-16</td>\n",
       "      <td>0.0</td>\n",
       "      <td>Approved</td>\n",
       "      <td>OHM Cycles</td>\n",
       "      <td>Standard</td>\n",
       "      <td>low</td>\n",
       "      <td>medium</td>\n",
       "      <td>1793.43</td>\n",
       "      <td>248.82</td>\n",
       "      <td>1999-07-20</td>\n",
       "    </tr>\n",
       "  </tbody>\n",
       "</table>\n",
       "</div>"
      ],
      "text/plain": [
       "   transaction_id  product_id  customer_id transaction_date  online_order  \\\n",
       "0               1           2         2950       2017-02-25           0.0   \n",
       "1               2           3         3120       2017-05-21           1.0   \n",
       "2               3          37          402       2017-10-16           0.0   \n",
       "\n",
       "  order_status          brand product_line product_class product_size  \\\n",
       "0     Approved          Solex     Standard        medium       medium   \n",
       "1     Approved  Trek Bicycles     Standard        medium        large   \n",
       "2     Approved     OHM Cycles     Standard           low       medium   \n",
       "\n",
       "   list_price  standard_cost product_first_sold_date  \n",
       "0       71.49          53.62              2012-12-02  \n",
       "1     2091.47         388.92              2014-03-03  \n",
       "2     1793.43         248.82              1999-07-20  "
      ]
     },
     "execution_count": 4,
     "metadata": {},
     "output_type": "execute_result"
    }
   ],
   "source": [
    "transac.head(3)"
   ]
  },
  {
   "cell_type": "code",
   "execution_count": 5,
   "id": "9c8ec4bf-b03d-4728-b7f1-4d2ff84c3176",
   "metadata": {},
   "outputs": [
    {
     "data": {
      "text/html": [
       "<div>\n",
       "<style scoped>\n",
       "    .dataframe tbody tr th:only-of-type {\n",
       "        vertical-align: middle;\n",
       "    }\n",
       "\n",
       "    .dataframe tbody tr th {\n",
       "        vertical-align: top;\n",
       "    }\n",
       "\n",
       "    .dataframe thead th {\n",
       "        text-align: right;\n",
       "    }\n",
       "</style>\n",
       "<table border=\"1\" class=\"dataframe\">\n",
       "  <thead>\n",
       "    <tr style=\"text-align: right;\">\n",
       "      <th></th>\n",
       "      <th>customer_id</th>\n",
       "      <th>first_name</th>\n",
       "      <th>last_name</th>\n",
       "      <th>gender</th>\n",
       "      <th>past_3_years_bike_related_purchases</th>\n",
       "      <th>DOB</th>\n",
       "      <th>job_title</th>\n",
       "      <th>job_industry_category</th>\n",
       "      <th>wealth_segment</th>\n",
       "      <th>deceased_indicator</th>\n",
       "      <th>default</th>\n",
       "      <th>owns_car</th>\n",
       "      <th>tenure</th>\n",
       "    </tr>\n",
       "  </thead>\n",
       "  <tbody>\n",
       "    <tr>\n",
       "      <th>0</th>\n",
       "      <td>1</td>\n",
       "      <td>Laraine</td>\n",
       "      <td>Medendorp</td>\n",
       "      <td>F</td>\n",
       "      <td>93</td>\n",
       "      <td>1953-10-12</td>\n",
       "      <td>Executive Secretary</td>\n",
       "      <td>Health</td>\n",
       "      <td>Mass Customer</td>\n",
       "      <td>N</td>\n",
       "      <td>\"'</td>\n",
       "      <td>Yes</td>\n",
       "      <td>11.0</td>\n",
       "    </tr>\n",
       "    <tr>\n",
       "      <th>1</th>\n",
       "      <td>2</td>\n",
       "      <td>Eli</td>\n",
       "      <td>Bockman</td>\n",
       "      <td>Male</td>\n",
       "      <td>81</td>\n",
       "      <td>1980-12-16</td>\n",
       "      <td>Administrative Officer</td>\n",
       "      <td>Financial Services</td>\n",
       "      <td>Mass Customer</td>\n",
       "      <td>N</td>\n",
       "      <td>&lt;script&gt;alert('hi')&lt;/script&gt;</td>\n",
       "      <td>Yes</td>\n",
       "      <td>16.0</td>\n",
       "    </tr>\n",
       "    <tr>\n",
       "      <th>2</th>\n",
       "      <td>3</td>\n",
       "      <td>Arlin</td>\n",
       "      <td>Dearle</td>\n",
       "      <td>Male</td>\n",
       "      <td>61</td>\n",
       "      <td>1954-01-20</td>\n",
       "      <td>Recruiting Manager</td>\n",
       "      <td>Property</td>\n",
       "      <td>Mass Customer</td>\n",
       "      <td>N</td>\n",
       "      <td>2018-02-01 00:00:00</td>\n",
       "      <td>Yes</td>\n",
       "      <td>15.0</td>\n",
       "    </tr>\n",
       "  </tbody>\n",
       "</table>\n",
       "</div>"
      ],
      "text/plain": [
       "   customer_id first_name  last_name gender  \\\n",
       "0            1    Laraine  Medendorp      F   \n",
       "1            2        Eli    Bockman   Male   \n",
       "2            3      Arlin     Dearle   Male   \n",
       "\n",
       "   past_3_years_bike_related_purchases        DOB               job_title  \\\n",
       "0                                   93 1953-10-12     Executive Secretary   \n",
       "1                                   81 1980-12-16  Administrative Officer   \n",
       "2                                   61 1954-01-20      Recruiting Manager   \n",
       "\n",
       "  job_industry_category wealth_segment deceased_indicator  \\\n",
       "0                Health  Mass Customer                  N   \n",
       "1    Financial Services  Mass Customer                  N   \n",
       "2              Property  Mass Customer                  N   \n",
       "\n",
       "                        default owns_car  tenure  \n",
       "0                            \"'      Yes    11.0  \n",
       "1  <script>alert('hi')</script>      Yes    16.0  \n",
       "2           2018-02-01 00:00:00      Yes    15.0  "
      ]
     },
     "execution_count": 5,
     "metadata": {},
     "output_type": "execute_result"
    }
   ],
   "source": [
    "demo = customerdemo.copy()\n",
    "demo.head(3)"
   ]
  },
  {
   "cell_type": "code",
   "execution_count": 6,
   "id": "6e4ba113-7c8b-4cbb-b0d0-12e0f198479a",
   "metadata": {},
   "outputs": [
    {
     "data": {
      "text/plain": [
       "(4000, 13)"
      ]
     },
     "execution_count": 6,
     "metadata": {},
     "output_type": "execute_result"
    }
   ],
   "source": [
    "demo.shape"
   ]
  },
  {
   "cell_type": "code",
   "execution_count": 7,
   "id": "f7ea4ac4-d1fc-4f83-a658-2bcf11552de3",
   "metadata": {},
   "outputs": [
    {
     "data": {
      "text/html": [
       "<div>\n",
       "<style scoped>\n",
       "    .dataframe tbody tr th:only-of-type {\n",
       "        vertical-align: middle;\n",
       "    }\n",
       "\n",
       "    .dataframe tbody tr th {\n",
       "        vertical-align: top;\n",
       "    }\n",
       "\n",
       "    .dataframe thead th {\n",
       "        text-align: right;\n",
       "    }\n",
       "</style>\n",
       "<table border=\"1\" class=\"dataframe\">\n",
       "  <thead>\n",
       "    <tr style=\"text-align: right;\">\n",
       "      <th></th>\n",
       "      <th>customer_id</th>\n",
       "      <th>address</th>\n",
       "      <th>postcode</th>\n",
       "      <th>state</th>\n",
       "      <th>country</th>\n",
       "      <th>property_valuation</th>\n",
       "    </tr>\n",
       "  </thead>\n",
       "  <tbody>\n",
       "    <tr>\n",
       "      <th>0</th>\n",
       "      <td>1</td>\n",
       "      <td>060 Morning Avenue</td>\n",
       "      <td>2016</td>\n",
       "      <td>New South Wales</td>\n",
       "      <td>Australia</td>\n",
       "      <td>10</td>\n",
       "    </tr>\n",
       "    <tr>\n",
       "      <th>1</th>\n",
       "      <td>2</td>\n",
       "      <td>6 Meadow Vale Court</td>\n",
       "      <td>2153</td>\n",
       "      <td>New South Wales</td>\n",
       "      <td>Australia</td>\n",
       "      <td>10</td>\n",
       "    </tr>\n",
       "    <tr>\n",
       "      <th>2</th>\n",
       "      <td>4</td>\n",
       "      <td>0 Holy Cross Court</td>\n",
       "      <td>4211</td>\n",
       "      <td>QLD</td>\n",
       "      <td>Australia</td>\n",
       "      <td>9</td>\n",
       "    </tr>\n",
       "  </tbody>\n",
       "</table>\n",
       "</div>"
      ],
      "text/plain": [
       "   customer_id              address  postcode            state    country  \\\n",
       "0            1   060 Morning Avenue      2016  New South Wales  Australia   \n",
       "1            2  6 Meadow Vale Court      2153  New South Wales  Australia   \n",
       "2            4   0 Holy Cross Court      4211              QLD  Australia   \n",
       "\n",
       "   property_valuation  \n",
       "0                  10  \n",
       "1                  10  \n",
       "2                   9  "
      ]
     },
     "execution_count": 7,
     "metadata": {},
     "output_type": "execute_result"
    }
   ],
   "source": [
    "address = customeraddress.copy()\n",
    "address.head(3)"
   ]
  },
  {
   "cell_type": "code",
   "execution_count": 8,
   "id": "990dd09f-35d4-47dd-8008-84a9c8cc8a84",
   "metadata": {},
   "outputs": [
    {
     "data": {
      "text/plain": [
       "(3999, 6)"
      ]
     },
     "execution_count": 8,
     "metadata": {},
     "output_type": "execute_result"
    }
   ],
   "source": [
    "address.shape"
   ]
  },
  {
   "cell_type": "markdown",
   "id": "243ad08a-d30f-4fe8-a299-abcc7b3cfdb6",
   "metadata": {},
   "source": [
    "### Merging Transactions with customer demography and Address\n",
    "We will merge these datas on Customer_Id starting by checking the customer Id counts in the data set.\n",
    "\n",
    "We are using `customer_id` because it is a primary key (from the database from which it was extracted) i.e. Another way is because all entries in `customer_id` are unique and appears on each of the datasets apart from the `newcustomer` data "
   ]
  },
  {
   "cell_type": "code",
   "execution_count": 9,
   "id": "75250d1d-cc6a-41b9-bf97-24b457e7e83f",
   "metadata": {},
   "outputs": [
    {
     "name": "stdout",
     "output_type": "stream",
     "text": [
      "Number of Unique customer Id in Transaction data is: 3494\n",
      "Number of Unique customer Id in Transaction data is: 4000\n",
      "Number of Unique customer Id in Transaction data is: 3999\n"
     ]
    }
   ],
   "source": [
    "# Checking the parameters before merging \n",
    "transac_id = transac[\"customer_id\"].nunique()\n",
    "print(f\"Number of Unique customer Id in Transaction data is: {transac_id}\" )\n",
    "\n",
    "demo_id = demo[\"customer_id\"].nunique()\n",
    "print(f\"Number of Unique customer Id in Transaction data is: {demo_id}\" )\n",
    "\n",
    "address_id = address[\"customer_id\"].nunique()\n",
    "print(f\"Number of Unique customer Id in Transaction data is: {address_id}\" )"
   ]
  },
  {
   "cell_type": "markdown",
   "id": "6051f336-3ed3-4e9c-b225-e9380662c477",
   "metadata": {},
   "source": [
    "from the above it is clear that the customer_Id is not completely accurate since each dataset has different unique number of IDs. this issue can be included in the DATA QUALITY ASSESSMENT REPORT with recommendations on to ensure that such do not happen again \n",
    " "
   ]
  },
  {
   "cell_type": "code",
   "execution_count": 10,
   "id": "4279ef37-75b3-4aed-b79b-5e3e2f6b6cfc",
   "metadata": {},
   "outputs": [
    {
     "data": {
      "text/html": [
       "<div>\n",
       "<style scoped>\n",
       "    .dataframe tbody tr th:only-of-type {\n",
       "        vertical-align: middle;\n",
       "    }\n",
       "\n",
       "    .dataframe tbody tr th {\n",
       "        vertical-align: top;\n",
       "    }\n",
       "\n",
       "    .dataframe thead th {\n",
       "        text-align: right;\n",
       "    }\n",
       "</style>\n",
       "<table border=\"1\" class=\"dataframe\">\n",
       "  <thead>\n",
       "    <tr style=\"text-align: right;\">\n",
       "      <th></th>\n",
       "      <th>transaction_id</th>\n",
       "      <th>product_id</th>\n",
       "      <th>customer_id</th>\n",
       "      <th>transaction_date</th>\n",
       "      <th>online_order</th>\n",
       "      <th>order_status</th>\n",
       "      <th>brand</th>\n",
       "      <th>product_line</th>\n",
       "      <th>product_class</th>\n",
       "      <th>product_size</th>\n",
       "      <th>...</th>\n",
       "      <th>wealth_segment</th>\n",
       "      <th>deceased_indicator</th>\n",
       "      <th>default</th>\n",
       "      <th>owns_car</th>\n",
       "      <th>tenure</th>\n",
       "      <th>address</th>\n",
       "      <th>postcode</th>\n",
       "      <th>state</th>\n",
       "      <th>country</th>\n",
       "      <th>property_valuation</th>\n",
       "    </tr>\n",
       "  </thead>\n",
       "  <tbody>\n",
       "    <tr>\n",
       "      <th>0</th>\n",
       "      <td>1</td>\n",
       "      <td>2</td>\n",
       "      <td>2950</td>\n",
       "      <td>2017-02-25</td>\n",
       "      <td>0.0</td>\n",
       "      <td>Approved</td>\n",
       "      <td>Solex</td>\n",
       "      <td>Standard</td>\n",
       "      <td>medium</td>\n",
       "      <td>medium</td>\n",
       "      <td>...</td>\n",
       "      <td>Mass Customer</td>\n",
       "      <td>N</td>\n",
       "      <td>ã»(ï¿£âï¿£)ã»:*:</td>\n",
       "      <td>Yes</td>\n",
       "      <td>10.0</td>\n",
       "      <td>984 Hoepker Court</td>\n",
       "      <td>3064</td>\n",
       "      <td>VIC</td>\n",
       "      <td>Australia</td>\n",
       "      <td>6</td>\n",
       "    </tr>\n",
       "    <tr>\n",
       "      <th>1</th>\n",
       "      <td>11065</td>\n",
       "      <td>1</td>\n",
       "      <td>2950</td>\n",
       "      <td>2017-10-16</td>\n",
       "      <td>0.0</td>\n",
       "      <td>Approved</td>\n",
       "      <td>Giant Bicycles</td>\n",
       "      <td>Standard</td>\n",
       "      <td>medium</td>\n",
       "      <td>medium</td>\n",
       "      <td>...</td>\n",
       "      <td>Mass Customer</td>\n",
       "      <td>N</td>\n",
       "      <td>ã»(ï¿£âï¿£)ã»:*:</td>\n",
       "      <td>Yes</td>\n",
       "      <td>10.0</td>\n",
       "      <td>984 Hoepker Court</td>\n",
       "      <td>3064</td>\n",
       "      <td>VIC</td>\n",
       "      <td>Australia</td>\n",
       "      <td>6</td>\n",
       "    </tr>\n",
       "    <tr>\n",
       "      <th>2</th>\n",
       "      <td>18923</td>\n",
       "      <td>62</td>\n",
       "      <td>2950</td>\n",
       "      <td>2017-04-26</td>\n",
       "      <td>0.0</td>\n",
       "      <td>Approved</td>\n",
       "      <td>Solex</td>\n",
       "      <td>Standard</td>\n",
       "      <td>medium</td>\n",
       "      <td>medium</td>\n",
       "      <td>...</td>\n",
       "      <td>Mass Customer</td>\n",
       "      <td>N</td>\n",
       "      <td>ã»(ï¿£âï¿£)ã»:*:</td>\n",
       "      <td>Yes</td>\n",
       "      <td>10.0</td>\n",
       "      <td>984 Hoepker Court</td>\n",
       "      <td>3064</td>\n",
       "      <td>VIC</td>\n",
       "      <td>Australia</td>\n",
       "      <td>6</td>\n",
       "    </tr>\n",
       "  </tbody>\n",
       "</table>\n",
       "<p>3 rows × 30 columns</p>\n",
       "</div>"
      ],
      "text/plain": [
       "   transaction_id  product_id  customer_id transaction_date  online_order  \\\n",
       "0               1           2         2950       2017-02-25           0.0   \n",
       "1           11065           1         2950       2017-10-16           0.0   \n",
       "2           18923          62         2950       2017-04-26           0.0   \n",
       "\n",
       "  order_status           brand product_line product_class product_size  ...  \\\n",
       "0     Approved           Solex     Standard        medium       medium  ...   \n",
       "1     Approved  Giant Bicycles     Standard        medium       medium  ...   \n",
       "2     Approved           Solex     Standard        medium       medium  ...   \n",
       "\n",
       "   wealth_segment  deceased_indicator           default owns_car tenure  \\\n",
       "0   Mass Customer                   N  ã»(ï¿£âï¿£)ã»:*:      Yes   10.0   \n",
       "1   Mass Customer                   N  ã»(ï¿£âï¿£)ã»:*:      Yes   10.0   \n",
       "2   Mass Customer                   N  ã»(ï¿£âï¿£)ã»:*:      Yes   10.0   \n",
       "\n",
       "             address  postcode state    country property_valuation  \n",
       "0  984 Hoepker Court      3064   VIC  Australia                  6  \n",
       "1  984 Hoepker Court      3064   VIC  Australia                  6  \n",
       "2  984 Hoepker Court      3064   VIC  Australia                  6  \n",
       "\n",
       "[3 rows x 30 columns]"
      ]
     },
     "execution_count": 10,
     "metadata": {},
     "output_type": "execute_result"
    }
   ],
   "source": [
    "# Merging the dataFrames\n",
    "merged = pd.merge(transac, demo, on=\"customer_id\")\n",
    "df =  pd.merge(merged,address, on=\"customer_id\")\n",
    "df.head(3)"
   ]
  },
  {
   "cell_type": "code",
   "execution_count": 11,
   "id": "73cba9dd-4c23-424e-a2b0-e88033aa5389",
   "metadata": {},
   "outputs": [
    {
     "data": {
      "text/plain": [
       "(19968, 30)"
      ]
     },
     "execution_count": 11,
     "metadata": {},
     "output_type": "execute_result"
    }
   ],
   "source": [
    "#checking the new shape of our df\n",
    "df.shape"
   ]
  },
  {
   "cell_type": "code",
   "execution_count": 12,
   "id": "108aa67d-e71a-4579-91c2-b8fe9bad1d50",
   "metadata": {
    "tags": []
   },
   "outputs": [
    {
     "name": "stdout",
     "output_type": "stream",
     "text": [
      "<class 'pandas.core.frame.DataFrame'>\n",
      "Int64Index: 19968 entries, 0 to 19967\n",
      "Data columns (total 30 columns):\n",
      " #   Column                               Non-Null Count  Dtype         \n",
      "---  ------                               --------------  -----         \n",
      " 0   transaction_id                       19968 non-null  int64         \n",
      " 1   product_id                           19968 non-null  int64         \n",
      " 2   customer_id                          19968 non-null  int64         \n",
      " 3   transaction_date                     19968 non-null  datetime64[ns]\n",
      " 4   online_order                         19609 non-null  float64       \n",
      " 5   order_status                         19968 non-null  object        \n",
      " 6   brand                                19773 non-null  object        \n",
      " 7   product_line                         19773 non-null  object        \n",
      " 8   product_class                        19773 non-null  object        \n",
      " 9   product_size                         19773 non-null  object        \n",
      " 10  list_price                           19968 non-null  float64       \n",
      " 11  standard_cost                        19773 non-null  float64       \n",
      " 12  product_first_sold_date              19773 non-null  datetime64[ns]\n",
      " 13  first_name                           19968 non-null  object        \n",
      " 14  last_name                            19326 non-null  object        \n",
      " 15  gender                               19968 non-null  object        \n",
      " 16  past_3_years_bike_related_purchases  19968 non-null  int64         \n",
      " 17  DOB                                  19522 non-null  datetime64[ns]\n",
      " 18  job_title                            17589 non-null  object        \n",
      " 19  job_industry_category                16746 non-null  object        \n",
      " 20  wealth_segment                       19968 non-null  object        \n",
      " 21  deceased_indicator                   19968 non-null  object        \n",
      " 22  default                              18517 non-null  object        \n",
      " 23  owns_car                             19968 non-null  object        \n",
      " 24  tenure                               19522 non-null  float64       \n",
      " 25  address                              19968 non-null  object        \n",
      " 26  postcode                             19968 non-null  int64         \n",
      " 27  state                                19968 non-null  object        \n",
      " 28  country                              19968 non-null  object        \n",
      " 29  property_valuation                   19968 non-null  int64         \n",
      "dtypes: datetime64[ns](3), float64(4), int64(6), object(17)\n",
      "memory usage: 4.7+ MB\n"
     ]
    }
   ],
   "source": [
    "df.info()"
   ]
  },
  {
   "cell_type": "code",
   "execution_count": 13,
   "id": "d496aa88-a1f4-46d8-a2fa-11fecbb5e335",
   "metadata": {},
   "outputs": [
    {
     "data": {
      "text/plain": [
       "job_industry_category      3222\n",
       "job_title                  2379\n",
       "default                    1451\n",
       "last_name                   642\n",
       "DOB                         446\n",
       "tenure                      446\n",
       "online_order                359\n",
       "brand                       195\n",
       "product_line                195\n",
       "product_class               195\n",
       "product_size                195\n",
       "standard_cost               195\n",
       "product_first_sold_date     195\n",
       "owns_car                      0\n",
       "transaction_id                0\n",
       "dtype: int64"
      ]
     },
     "execution_count": 13,
     "metadata": {},
     "output_type": "execute_result"
    }
   ],
   "source": [
    "# cheking to see the Null value counts \n",
    "df.isnull().sum().sort_values(ascending = False).head(15)"
   ]
  },
  {
   "cell_type": "markdown",
   "id": "18066f50-7cee-4e6d-8146-10e882564e46",
   "metadata": {},
   "source": [
    "## Dealing with missing values"
   ]
  },
  {
   "cell_type": "code",
   "execution_count": 14,
   "id": "7623dc22-7680-43d0-bfca-95c1676cba6c",
   "metadata": {},
   "outputs": [
    {
     "data": {
      "text/plain": [
       "Manufacturing         4014\n",
       "Financial Services    3880\n",
       "Health                3099\n",
       "Retail                1758\n",
       "Property              1289\n",
       "IT                    1076\n",
       "Entertainment          698\n",
       "Argiculture            578\n",
       "Telecommunications     354\n",
       "Name: job_industry_category, dtype: int64"
      ]
     },
     "execution_count": 14,
     "metadata": {},
     "output_type": "execute_result"
    }
   ],
   "source": [
    "# Inspecting the `job_industry_category`\n",
    "df[\"job_industry_category\"].value_counts()"
   ]
  },
  {
   "cell_type": "markdown",
   "id": "048e6d88-775b-4a92-bcb5-dd0872ee21c2",
   "metadata": {},
   "source": [
    "Since the `job_industry_category` has 9 unique values or job industries we will categorise the missing ones as `other` i.e. the category that does not fall in any of the above listed."
   ]
  },
  {
   "cell_type": "code",
   "execution_count": 15,
   "id": "3257add8-5217-40c0-96fd-d3195b8ee1de",
   "metadata": {},
   "outputs": [],
   "source": [
    "# Filling the missing values with `other`\n",
    "df[\"job_industry_category\"] = df[\"job_industry_category\"].fillna(value = \"other\")"
   ]
  },
  {
   "cell_type": "markdown",
   "id": "2dc09721-ed48-4ef7-9359-d818430092aa",
   "metadata": {},
   "source": [
    "the `job_title` feature also has many missing values we will fill also with `other` (others may include even the unemployed )"
   ]
  },
  {
   "cell_type": "code",
   "execution_count": 16,
   "id": "05f3d09c-03c4-4301-9db2-77222fe2ce43",
   "metadata": {},
   "outputs": [],
   "source": [
    "# Filling the missing Values with `other`\n",
    "df[\"job_title\"] = df[\"job_title\"].fillna(value=\"other\")"
   ]
  },
  {
   "cell_type": "code",
   "execution_count": 17,
   "id": "1057f482-95d9-4ebd-8f6d-f65f58cedd11",
   "metadata": {},
   "outputs": [
    {
     "data": {
      "text/plain": [
       "0                          ã»(ï¿£âï¿£)ã»:*:\n",
       "1                          ã»(ï¿£âï¿£)ã»:*:\n",
       "2                          ã»(ï¿£âï¿£)ã»:*:\n",
       "3    ZÌ®ÌÍÌ ÍÍAÌ¥ÌÌÍÌ»ÌLÌ£ÍÍÌ¯Ì¹ÌÍGÌ»OÌ­ÌÌ®\n",
       "4    ZÌ®ÌÍÌ ÍÍAÌ¥ÌÌÍÌ»ÌLÌ£ÍÍÌ¯Ì¹ÌÍGÌ»OÌ­ÌÌ®\n",
       "Name: default, dtype: object"
      ]
     },
     "execution_count": 17,
     "metadata": {},
     "output_type": "execute_result"
    }
   ],
   "source": [
    "# Inspecting the default column\n",
    "df[\"default\"].head()"
   ]
  },
  {
   "cell_type": "markdown",
   "id": "9217e41f-2016-4df0-81af-3d50552a7ffa",
   "metadata": {},
   "source": [
    "checking through the `default` we can see that the data is damages, The `last_name` column also may not be relevant to our analysis. Hence, we drop the two columns."
   ]
  },
  {
   "cell_type": "code",
   "execution_count": 18,
   "id": "ef89fa59-3f75-4ae2-b140-49a93a2ce164",
   "metadata": {},
   "outputs": [],
   "source": [
    "# Dropping the irrelevant columns with more missing values\n",
    "df.drop(columns =[\"default\",\"last_name\",\"first_name\"], inplace=True)"
   ]
  },
  {
   "cell_type": "code",
   "execution_count": 19,
   "id": "b88d04eb-dcf2-47d5-b848-d770bf5e2615",
   "metadata": {},
   "outputs": [],
   "source": [
    "df_ = df.copy()"
   ]
  },
  {
   "cell_type": "markdown",
   "id": "f08764d4-3a84-4e9a-8bb4-aa7f986f585e",
   "metadata": {},
   "source": [
    "Before dropping the observations with missing values we calculate the impact it will has on the whole dataset. we subtract the number of observation after dropping from the original df and then we take the percentage of the residual with respect to the original number of observations "
   ]
  },
  {
   "cell_type": "code",
   "execution_count": 20,
   "id": "2e61839f-6d0d-4cb4-b079-477c05055c6b",
   "metadata": {},
   "outputs": [
    {
     "name": "stdout",
     "output_type": "stream",
     "text": [
      "As we drop the missing values the inpact is 4.92% of the total observations\n"
     ]
    }
   ],
   "source": [
    "# Dropping the missing values\n",
    "df = df.dropna()\n",
    "\n",
    "# Checking the percentage of missing values inpact\n",
    "lost = ((df_.shape[0] - df.dropna().shape[0])/df_.shape[0])*100\n",
    "print(f\"As we drop the missing values the inpact is {round(lost,2)}% of the total observations\")"
   ]
  },
  {
   "cell_type": "code",
   "execution_count": 21,
   "id": "59b66a0d-8d4c-40c3-96d4-4d5d5094d25d",
   "metadata": {},
   "outputs": [
    {
     "data": {
      "text/plain": [
       "transaction_id                         0\n",
       "product_id                             0\n",
       "customer_id                            0\n",
       "transaction_date                       0\n",
       "online_order                           0\n",
       "order_status                           0\n",
       "brand                                  0\n",
       "product_line                           0\n",
       "product_class                          0\n",
       "product_size                           0\n",
       "list_price                             0\n",
       "standard_cost                          0\n",
       "product_first_sold_date                0\n",
       "gender                                 0\n",
       "past_3_years_bike_related_purchases    0\n",
       "DOB                                    0\n",
       "job_title                              0\n",
       "job_industry_category                  0\n",
       "wealth_segment                         0\n",
       "deceased_indicator                     0\n",
       "owns_car                               0\n",
       "tenure                                 0\n",
       "address                                0\n",
       "postcode                               0\n",
       "state                                  0\n",
       "country                                0\n",
       "property_valuation                     0\n",
       "dtype: int64"
      ]
     },
     "execution_count": 21,
     "metadata": {},
     "output_type": "execute_result"
    }
   ],
   "source": [
    "df.isnull().sum()"
   ]
  },
  {
   "cell_type": "markdown",
   "id": "157936bd-f262-46fe-9293-9c729e1321b7",
   "metadata": {},
   "source": [
    "### Investigating elements within each feature"
   ]
  },
  {
   "cell_type": "code",
   "execution_count": 22,
   "id": "b6ac014b-35a6-4c16-ba6f-bc63ab282b87",
   "metadata": {},
   "outputs": [
    {
     "name": "stdout",
     "output_type": "stream",
     "text": [
      "the number of unique values in transaction_id is 18986\n",
      "the number of unique values in product_id is 101\n",
      "the number of unique values in customer_id is 3411\n",
      "the number of unique values in transaction_date is 364\n",
      "the number of unique values in online_order is 2 and they are: [0. 1.]\n",
      "the number of unique values in order_status is 2 and they are: ['Approved' 'Cancelled']\n",
      "the number of unique values in brand is 6 and they are: ['Giant Bicycles' 'Norco Bicycles' 'OHM Cycles' 'Solex' 'Trek Bicycles'\n",
      " 'WeareA2B']\n",
      "the number of unique values in product_line is 4 and they are: ['Mountain' 'Road' 'Standard' 'Touring']\n",
      "the number of unique values in product_class is 3 and they are: ['high' 'low' 'medium']\n",
      "the number of unique values in product_size is 3 and they are: ['large' 'medium' 'small']\n",
      "the number of unique values in list_price is 100\n",
      "the number of unique values in standard_cost is 100\n",
      "the number of unique values in product_first_sold_date is 100\n",
      "the number of unique values in gender is 6 and they are: ['F' 'Femal' 'Female' 'M' 'Male' 'U']\n",
      "the number of unique values in past_3_years_bike_related_purchases is 100\n",
      "the number of unique values in DOB is 3046\n",
      "the number of unique values in job_title is 196\n",
      "the number of unique values in job_industry_category is 10\n",
      "the number of unique values in wealth_segment is 3 and they are: ['Affluent Customer' 'High Net Worth' 'Mass Customer']\n",
      "the number of unique values in deceased_indicator is 2 and they are: ['N' 'Y']\n",
      "the number of unique values in owns_car is 2 and they are: ['No' 'Yes']\n",
      "the number of unique values in tenure is 22\n",
      "the number of unique values in address is 3409\n",
      "the number of unique values in postcode is 829\n",
      "the number of unique values in state is 5 and they are: ['NSW' 'New South Wales' 'QLD' 'VIC' 'Victoria']\n",
      "the number of unique values in country is 1 and they are: ['Australia']\n",
      "the number of unique values in property_valuation is 12\n",
      "----------------------------------------------------------------------------------------------------\n",
      "['online_order', 'order_status', 'brand', 'product_line', 'product_class', 'product_size', 'gender', 'wealth_segment', 'deceased_indicator', 'owns_car', 'state', 'country']\n"
     ]
    }
   ],
   "source": [
    "# Initialising a list to collect cols with desired features\n",
    "cols_with_small_features = []\n",
    "\n",
    "# Looping through the columns to check for columns with unique features\n",
    "for col in df.columns:\n",
    "    unique = np.unique(df[col])\n",
    "    num_unique = len(unique)\n",
    "    \n",
    "    # Checking if the Feature has less than 10 unique values \n",
    "    if num_unique<10:\n",
    "        cols_with_small_features.append(col)\n",
    "        print(f\"the number of unique values in {col} is {num_unique} and they are: {unique}\")\n",
    "    \n",
    "    else:\n",
    "        print (f\"the number of unique values in {col} is {num_unique}\")\n",
    "\n",
    "print(\"--\"*50)\n",
    "\n",
    "# Visulizing the collumns with less than 10 features \n",
    "print(cols_with_small_features)"
   ]
  },
  {
   "cell_type": "code",
   "execution_count": 23,
   "id": "0c19249a-3e50-41fa-90b9-0261851af83c",
   "metadata": {},
   "outputs": [
    {
     "name": "stdout",
     "output_type": "stream",
     "text": [
      "The NUMBER dtype features has the following number of unique values \n",
      " transaction_id                         18986\n",
      "product_id                               101\n",
      "customer_id                             3411\n",
      "online_order                               2\n",
      "list_price                               100\n",
      "standard_cost                            100\n",
      "past_3_years_bike_related_purchases      100\n",
      "tenure                                    22\n",
      "postcode                                 829\n",
      "property_valuation                        12\n",
      "dtype: int64\n",
      "----------------------------------------------------------------------------------------------------\n",
      "While the OBJECT dtype features has the following number of unique values \n",
      " order_status                2\n",
      "brand                       6\n",
      "product_line                4\n",
      "product_class               3\n",
      "product_size                3\n",
      "gender                      6\n",
      "job_title                 196\n",
      "job_industry_category      10\n",
      "wealth_segment              3\n",
      "deceased_indicator          2\n",
      "owns_car                    2\n",
      "address                  3409\n",
      "state                       5\n",
      "country                     1\n",
      "dtype: int64\n"
     ]
    }
   ],
   "source": [
    "# viewing the Unique values based on their data types\n",
    "num_dtype = df.select_dtypes(\"number\").nunique()\n",
    "obj_dtype = df.select_dtypes(\"object\").nunique()\n",
    "print( \"The NUMBER dtype features has the following number of unique values \\n\", num_dtype)\n",
    "print(\"--\"*50)\n",
    "print( \"While the OBJECT dtype features has the following number of unique values \\n\",obj_dtype)"
   ]
  },
  {
   "cell_type": "markdown",
   "id": "2c93a87d-7019-4c07-9903-733cf8485e9c",
   "metadata": {},
   "source": [
    "# Feature Engineering \n",
    "#### creating Metrics from datetime data \n"
   ]
  },
  {
   "cell_type": "code",
   "execution_count": 24,
   "id": "721e34b0-8abf-4291-885e-fbdc1f2cd53a",
   "metadata": {},
   "outputs": [
    {
     "data": {
      "text/plain": [
       "0     5\n",
       "1    14\n",
       "2     7\n",
       "3     3\n",
       "4     6\n",
       "Name: product_age, dtype: int64"
      ]
     },
     "execution_count": 24,
     "metadata": {},
     "output_type": "execute_result"
    }
   ],
   "source": [
    "#how old was the product before the user bought it\n",
    "df[\"product_age\"] = df[\"transaction_date\"].dt.year - df[\"product_first_sold_date\"].dt.year\n",
    "df[\"product_age\"].head()"
   ]
  },
  {
   "cell_type": "code",
   "execution_count": 25,
   "id": "d7182105-5ce4-4882-93f3-48a096977ff5",
   "metadata": {},
   "outputs": [
    {
     "data": {
      "text/plain": [
       "Text(0, 0.5, 'Frequency')"
      ]
     },
     "execution_count": 25,
     "metadata": {},
     "output_type": "execute_result"
    },
    {
     "data": {
      "image/png": "[encoded data removed]",
      "text/plain": [
       "<Figure size 432x288 with 1 Axes>"
      ]
     },
     "metadata": {},
     "output_type": "display_data"
    }
   ],
   "source": [
    "df[\"product_age\"].hist()\n",
    "plt.title(\"PRODUCT AGE DISTRIBUTION\")\n",
    "plt.xlabel(\"Years\")\n",
    "plt.ylabel(\"Frequency\")"
   ]
  },
  {
   "cell_type": "code",
   "execution_count": 26,
   "id": "6b6230ad-10c7-4fb8-9b90-a551cffdbc97",
   "metadata": {},
   "outputs": [],
   "source": [
    "# creating months from the transac_dates\n",
    "df[\"transaction_month\"] = df['transaction_date'].dt.month"
   ]
  },
  {
   "cell_type": "code",
   "execution_count": 27,
   "id": "42d09c15-a39e-43c3-9415-8b9027a8dd00",
   "metadata": {},
   "outputs": [
    {
     "data": {
      "text/plain": [
       "Text(0, 0.5, 'Frequency')"
      ]
     },
     "execution_count": 27,
     "metadata": {},
     "output_type": "execute_result"
    },
    {
     "data": {
      "image/png": "[encoded data removed]",
      "text/plain": [
       "<Figure size 432x288 with 1 Axes>"
      ]
     },
     "metadata": {},
     "output_type": "display_data"
    }
   ],
   "source": [
    "df[\"transaction_month\"].hist()\n",
    "plt.title(\"NUMBER OF TRANSACTIONS PER MONTH\")\n",
    "plt.xlabel(\"Months\")\n",
    "plt.ylabel(\"Frequency\")"
   ]
  },
  {
   "cell_type": "code",
   "execution_count": 28,
   "id": "a636d3a1-ff00-4e49-878e-b9a9bfb6dc57",
   "metadata": {
    "tags": []
   },
   "outputs": [
    {
     "data": {
      "text/plain": [
       "56"
      ]
     },
     "execution_count": 28,
     "metadata": {},
     "output_type": "execute_result"
    }
   ],
   "source": [
    "#creating the age column\n",
    "df[\"age\"] = df[\"transaction_date\"].dt.year - df[\"DOB\"].dt.year\n",
    "df[\"age\"].nunique()"
   ]
  },
  {
   "cell_type": "code",
   "execution_count": 35,
   "id": "da7f37bb-50bd-4504-b6c7-a28b8972ee57",
   "metadata": {},
   "outputs": [
    {
     "name": "stdout",
     "output_type": "stream",
     "text": [
      "the mean is =  39.89971557990098\n",
      "the STD is =  12.90268076190024\n",
      "the variance is =  166.4791708435106\n",
      "the range is =  159\n"
     ]
    }
   ],
   "source": [
    "#understanding the age distribution\n",
    "print('the mean is = ',df['age'].mean())\n",
    "print('the STD is = ',df['age'].std())\n",
    "print('the variance is = ',df['age'].var())\n",
    "\n",
    "print('the range is = ',df['age'].max()-df['age'].min())\n"
   ]
  },
  {
   "cell_type": "code",
   "execution_count": 36,
   "id": "5b106353-af0c-4083-8e32-8100694e6da2",
   "metadata": {},
   "outputs": [
    {
     "data": {
      "text/plain": [
       "Text(0, 0.5, 'Frequency')"
      ]
     },
     "execution_count": 36,
     "metadata": {},
     "output_type": "execute_result"
    },
    {
     "data": {
      "image/png": "[encoded data removed]",
      "text/plain": [
       "<Figure size 432x288 with 1 Axes>"
      ]
     },
     "metadata": {},
     "output_type": "display_data"
    }
   ],
   "source": [
    "#Checking for outliers in age\n",
    "df[\"age\"].hist()\n",
    "plt.title(\"CUSTOMER AGE DISTRIBUTION\")\n",
    "plt.xlabel(\"Age\")\n",
    "plt.ylabel(\"Frequency\")"
   ]
  },
  {
   "cell_type": "markdown",
   "id": "5a385178-e96c-4a8f-bb3b-57d661c5ad6c",
   "metadata": {},
   "source": [
    "The age has outliers. meaning that we're having people with morethan 150 years buying the product this can be due to error in entering customer age. we will drop observations with age morethan 100.\n",
    "\n",
    "Since the age has 56 unique values we will group them and conver to ordinal variable"
   ]
  },
  {
   "cell_type": "code",
   "execution_count": 37,
   "id": "fa3933e8-8c93-4d00-bb74-55ecc7bc5462",
   "metadata": {},
   "outputs": [
    {
     "data": {
      "text/plain": [
       "Text(0.5, 1.0, 'Age distribution [no outliers]')"
      ]
     },
     "execution_count": 37,
     "metadata": {},
     "output_type": "execute_result"
    },
    {
     "data": {
      "image/png": "[encoded data removed]",
      "text/plain": [
       "<Figure size 432x288 with 1 Axes>"
      ]
     },
     "metadata": {},
     "output_type": "display_data"
    }
   ],
   "source": [
    "# After careful inspection of the affected columns we will drop the 0.0005% of the last quantile \n",
    "q = df['age'].quantile(.9995)\n",
    "df = df[df[\"age\"]<=q]\n",
    "df['age'].hist()\n",
    "plt.title(\"Age distribution [no outliers]\")"
   ]
  },
  {
   "cell_type": "code",
   "execution_count": 38,
   "id": "3fc6a986-921b-4388-b367-8fce666e21a3",
   "metadata": {},
   "outputs": [
    {
     "name": "stdout",
     "output_type": "stream",
     "text": [
      "the mean is =  39.84318684792918\n",
      "the STD is =  12.608141739903386\n",
      "the variance is =  158.965238133494\n",
      "the range is =  71\n"
     ]
    }
   ],
   "source": [
    "print('the mean is = ',df['age'].mean())\n",
    "print('the STD is = ',df['age'].std())\n",
    "print('the variance is = ',df['age'].var())\n",
    "\n",
    "print('the range is = ',df['age'].max()-df['age'].min())\n"
   ]
  },
  {
   "cell_type": "code",
   "execution_count": 31,
   "id": "4c48d36c-69c1-46a5-9991-11748fc38fc8",
   "metadata": {},
   "outputs": [
    {
     "data": {
      "text/plain": [
       "Text(0.5, 1.0, 'Age Distribution')"
      ]
     },
     "execution_count": 31,
     "metadata": {},
     "output_type": "execute_result"
    },
    {
     "data": {
      "image/png": "[encoded data removed]",
      "text/plain": [
       "<Figure size 432x288 with 1 Axes>"
      ]
     },
     "metadata": {},
     "output_type": "display_data"
    }
   ],
   "source": [
    "# Creating an age_band to categorise the age for better analysis\n",
    "df[\"age_band\"] = pd.cut(df[\"age\"],5 ,labels=False )\n",
    "\n",
    "#renaming the labels \n",
    "df[\"age_band\"] = df[\"age_band\"].replace((0,1,2,3,4),(\"young\",\"young_adults\",\"old_adult\",\"old\",\"older\"))\n",
    "\n",
    "# Visualising\n",
    "df[\"age_band\"].hist()\n",
    "plt.title(\"Age Distribution\")"
   ]
  },
  {
   "cell_type": "markdown",
   "id": "f1ff4c2c-422d-42ae-ab0d-d0154fc87f5e",
   "metadata": {},
   "source": [
    "The `gender` column has two unique observations which are inconsistent to each other so we replace the inconsistent. similarly the `state` columns has some inconsistencies"
   ]
  },
  {
   "cell_type": "markdown",
   "id": "f2d63c8c-a7b3-457b-a0d7-a5bcdd7be90a",
   "metadata": {},
   "source": [
    "## Dealing with Incosistent Entries"
   ]
  },
  {
   "cell_type": "code",
   "execution_count": 32,
   "id": "cd30e405-1b6a-4cd7-bbe3-da5b7561c799",
   "metadata": {},
   "outputs": [],
   "source": [
    "# replacing The inconsistent entries \n",
    "df['gender'].replace((\"F\",\"Femal\",\"M\"),(\"Female\",\"Female\",\"Male\"), inplace=True)"
   ]
  },
  {
   "cell_type": "code",
   "execution_count": 33,
   "id": "70a917d8-106e-40b9-b0e2-a4314ee46568",
   "metadata": {},
   "outputs": [],
   "source": [
    "# replacing The inconsistent entries \n",
    "df[\"state\"].replace((\"New South Wales\",\"Victoria\"),(\"NSW\",\"VIC\"), inplace=True)"
   ]
  },
  {
   "cell_type": "code",
   "execution_count": 34,
   "id": "ad9bb4c2-7309-4387-9683-f12953eff47a",
   "metadata": {
    "jupyter": {
     "source_hidden": true
    },
    "tags": []
   },
   "outputs": [
    {
     "data": {
      "text/plain": [
       "Text(0.5, 1.0, 'ONLINE_ORDER')"
      ]
     },
     "execution_count": 34,
     "metadata": {},
     "output_type": "execute_result"
    },
    {
     "data": {
      "image/png": "[encoded data removed]",
      "text/plain": [
       "<Figure size 864x1440 with 8 Axes>"
      ]
     },
     "metadata": {},
     "output_type": "display_data"
    }
   ],
   "source": [
    "# visualizinfg some of the features with less unique value for better data understanding \n",
    "fig, axes = plt.subplots(nrows=4,ncols=2, figsize = [12,20])\n",
    "fig.subplots_adjust(hspace=0.5)\n",
    "\n",
    "sns.histplot(y = df[\"brand\"], ax=axes[0,0])\n",
    "axes[0,0].set_title(\"BRAND\")\n",
    "\n",
    "sns.histplot(y = df[\"product_line\"], ax=axes[0,1])\n",
    "axes[0,1].set_title(\"product_line\".upper())\n",
    "\n",
    "sns.histplot(y = df[\"product_class\"], ax=axes[1,0])\n",
    "axes[1,0].set_title(\"product_class\".upper())\n",
    "\n",
    "sns.histplot(y = df[\"product_size\"], ax=axes[1,1])\n",
    "axes[1,1].set_title(\"product_size\".upper())\n",
    "\n",
    "sns.histplot(y = df[\"wealth_segment\"], ax=axes[2,0])\n",
    "axes[2,0].set_title(\"wealth_segment\".upper())\n",
    "\n",
    "sns.histplot(y = df[\"state\"], ax=axes[2,1])\n",
    "axes[2,1].set_title(\"state\".upper())\n",
    "\n",
    "sns.histplot(y = df[\"owns_car\"], ax=axes[3,0])\n",
    "axes[3,0].set_title(\"owns_car\".upper())\n",
    "\n",
    "sns.histplot(y = df[\"online_order\"], ax=axes[3,1])\n",
    "axes[3,1].set_title(\"online_order\".upper())\n"
   ]
  },
  {
   "cell_type": "code",
   "execution_count": 35,
   "id": "319552a6-0ca5-45a9-99dc-611f6b6325f3",
   "metadata": {},
   "outputs": [
    {
     "data": {
      "text/plain": [
       "transaction_id                         18978\n",
       "product_id                               101\n",
       "customer_id                             3410\n",
       "transaction_date                         364\n",
       "online_order                               2\n",
       "order_status                               2\n",
       "brand                                      6\n",
       "product_line                               4\n",
       "product_class                              3\n",
       "product_size                               3\n",
       "list_price                               100\n",
       "standard_cost                            100\n",
       "product_first_sold_date                  100\n",
       "gender                                     2\n",
       "past_3_years_bike_related_purchases      100\n",
       "DOB                                     3045\n",
       "job_title                                196\n",
       "job_industry_category                     10\n",
       "wealth_segment                             3\n",
       "deceased_indicator                         2\n",
       "owns_car                                   2\n",
       "tenure                                    22\n",
       "address                                 3408\n",
       "postcode                                 829\n",
       "state                                      3\n",
       "country                                    1\n",
       "property_valuation                        12\n",
       "product_age                               26\n",
       "transaction_month                         12\n",
       "age                                       55\n",
       "age_band                                   5\n",
       "dtype: int64"
      ]
     },
     "execution_count": 35,
     "metadata": {},
     "output_type": "execute_result"
    }
   ],
   "source": [
    "df.nunique()"
   ]
  },
  {
   "cell_type": "markdown",
   "id": "c9aef75d-3b0f-4e17-a9da-20f15f395c74",
   "metadata": {},
   "source": [
    "### Avoiding curse of dimensionality trap \n",
    "The curse of dimensionality refers to the difficulties that arise when analyzing data with many dimensions, such as when there are many features or variables being considered. One issue is that the data can become sparse and dispersed, making it difficult to identify meaningful patterns. Another issue is that as the number of dimensions increases, the amount of data needed to fill the space grows exponentially, making it difficult to obtain enough data to reliably estimate relationships between variables. As a remedy we will drop the columns with high dimensions and those with very low e.g. `country` which has only one unique variable.\n",
    "\n",
    "### Avoiding multicolinearity \n",
    "Multicollinearity is a phenomenon that occurs when two or more variables are highly correlated with each other. This can cause problems in the analysis, as it can lead to difficulties in distinguishing the effects of the individual variables. to avoid this problem we will drop one of some highly correlated columns e.g. `Job_indusctry` vs `Job_title` (we will choose to drop `job_title` since it has higher dimension)."
   ]
  },
  {
   "cell_type": "code",
   "execution_count": 36,
   "id": "ca94738b-d8f4-44b7-a95f-3352dc28c3fc",
   "metadata": {},
   "outputs": [],
   "source": [
    "df.drop(columns = [\"address\",\"postcode\",\"job_title\",'job_title',\"transaction_id\",\"customer_id\",\"transaction_date\",\"product_first_sold_date\",\"DOB\", \"country\",\"age\"], inplace = True)"
   ]
  },
  {
   "cell_type": "code",
   "execution_count": 37,
   "id": "0066c963-8e41-4235-a81e-d555faee1a17",
   "metadata": {},
   "outputs": [
    {
     "data": {
      "text/plain": [
       "(18978, 21)"
      ]
     },
     "execution_count": 37,
     "metadata": {},
     "output_type": "execute_result"
    }
   ],
   "source": [
    "df.shape"
   ]
  },
  {
   "cell_type": "code",
   "execution_count": 38,
   "id": "2d6f0196-3f79-47d7-8e7d-fc2f7fab33c9",
   "metadata": {},
   "outputs": [
    {
     "name": "stdout",
     "output_type": "stream",
     "text": [
      "<class 'pandas.core.frame.DataFrame'>\n",
      "Int64Index: 18978 entries, 0 to 19967\n",
      "Data columns (total 21 columns):\n",
      " #   Column                               Non-Null Count  Dtype  \n",
      "---  ------                               --------------  -----  \n",
      " 0   product_id                           18978 non-null  int64  \n",
      " 1   online_order                         18978 non-null  float64\n",
      " 2   order_status                         18978 non-null  object \n",
      " 3   brand                                18978 non-null  object \n",
      " 4   product_line                         18978 non-null  object \n",
      " 5   product_class                        18978 non-null  object \n",
      " 6   product_size                         18978 non-null  object \n",
      " 7   list_price                           18978 non-null  float64\n",
      " 8   standard_cost                        18978 non-null  float64\n",
      " 9   gender                               18978 non-null  object \n",
      " 10  past_3_years_bike_related_purchases  18978 non-null  int64  \n",
      " 11  job_industry_category                18978 non-null  object \n",
      " 12  wealth_segment                       18978 non-null  object \n",
      " 13  deceased_indicator                   18978 non-null  object \n",
      " 14  owns_car                             18978 non-null  object \n",
      " 15  tenure                               18978 non-null  float64\n",
      " 16  state                                18978 non-null  object \n",
      " 17  property_valuation                   18978 non-null  int64  \n",
      " 18  product_age                          18978 non-null  int64  \n",
      " 19  transaction_month                    18978 non-null  int64  \n",
      " 20  age_band                             18978 non-null  object \n",
      "dtypes: float64(4), int64(5), object(12)\n",
      "memory usage: 3.2+ MB\n"
     ]
    }
   ],
   "source": [
    "df.info()"
   ]
  },
  {
   "cell_type": "markdown",
   "id": "951a9365-4864-4bb3-bcdc-d573a391c325",
   "metadata": {},
   "source": [
    "## Exporting our pre-processed data for modelling "
   ]
  },
  {
   "cell_type": "code",
   "execution_count": 39,
   "id": "a5d2d221-abf7-4a81-96a6-49c4bbe00542",
   "metadata": {},
   "outputs": [],
   "source": [
    "#df.to_csv(\"pre_processed.csv\", sep=',', index=False, header=True, encoding=None)"
   ]
  },
  {
   "cell_type": "markdown",
   "id": "b9508683-ae74-415a-89ff-14095c89cd66",
   "metadata": {},
   "source": [
    "### in the next project we will model this data Using unsupervised learning "
   ]
  },
  {
   "cell_type": "code",
   "execution_count": 41,
   "id": "7d0f9b1a-8486-4f0c-8c1b-fa74e5361446",
   "metadata": {},
   "outputs": [
    {
     "ename": "KeyError",
     "evalue": "'age'",
     "output_type": "error",
     "traceback": [
      "\u001b[1;31m---------------------------------------------------------------------------\u001b[0m",
      "\u001b[1;31mKeyError\u001b[0m                                  Traceback (most recent call last)",
      "\u001b[1;32m~\\anaconda3\\lib\\site-packages\\pandas\\core\\indexes\\base.py\u001b[0m in \u001b[0;36mget_loc\u001b[1;34m(self, key, method, tolerance)\u001b[0m\n\u001b[0;32m   3360\u001b[0m             \u001b[1;32mtry\u001b[0m\u001b[1;33m:\u001b[0m\u001b[1;33m\u001b[0m\u001b[1;33m\u001b[0m\u001b[0m\n\u001b[1;32m-> 3361\u001b[1;33m                 \u001b[1;32mreturn\u001b[0m \u001b[0mself\u001b[0m\u001b[1;33m.\u001b[0m\u001b[0m_engine\u001b[0m\u001b[1;33m.\u001b[0m\u001b[0mget_loc\u001b[0m\u001b[1;33m(\u001b[0m\u001b[0mcasted_key\u001b[0m\u001b[1;33m)\u001b[0m\u001b[1;33m\u001b[0m\u001b[1;33m\u001b[0m\u001b[0m\n\u001b[0m\u001b[0;32m   3362\u001b[0m             \u001b[1;32mexcept\u001b[0m \u001b[0mKeyError\u001b[0m \u001b[1;32mas\u001b[0m \u001b[0merr\u001b[0m\u001b[1;33m:\u001b[0m\u001b[1;33m\u001b[0m\u001b[1;33m\u001b[0m\u001b[0m\n",
      "\u001b[1;32m~\\anaconda3\\lib\\site-packages\\pandas\\_libs\\index.pyx\u001b[0m in \u001b[0;36mpandas._libs.index.IndexEngine.get_loc\u001b[1;34m()\u001b[0m\n",
      "\u001b[1;32m~\\anaconda3\\lib\\site-packages\\pandas\\_libs\\index.pyx\u001b[0m in \u001b[0;36mpandas._libs.index.IndexEngine.get_loc\u001b[1;34m()\u001b[0m\n",
      "\u001b[1;32mpandas\\_libs\\hashtable_class_helper.pxi\u001b[0m in \u001b[0;36mpandas._libs.hashtable.PyObjectHashTable.get_item\u001b[1;34m()\u001b[0m\n",
      "\u001b[1;32mpandas\\_libs\\hashtable_class_helper.pxi\u001b[0m in \u001b[0;36mpandas._libs.hashtable.PyObjectHashTable.get_item\u001b[1;34m()\u001b[0m\n",
      "\u001b[1;31mKeyError\u001b[0m: 'age'",
      "\nThe above exception was the direct cause of the following exception:\n",
      "\u001b[1;31mKeyError\u001b[0m                                  Traceback (most recent call last)",
      "\u001b[1;32m~\\AppData\\Local\\Temp/ipykernel_700/2420549294.py\u001b[0m in \u001b[0;36m<module>\u001b[1;34m\u001b[0m\n\u001b[1;32m----> 1\u001b[1;33m \u001b[0mdf\u001b[0m\u001b[1;33m[\u001b[0m\u001b[1;34m'age'\u001b[0m\u001b[1;33m]\u001b[0m\u001b[1;33m.\u001b[0m\u001b[0mhead\u001b[0m\u001b[1;33m(\u001b[0m\u001b[1;33m)\u001b[0m\u001b[1;33m\u001b[0m\u001b[1;33m\u001b[0m\u001b[0m\n\u001b[0m",
      "\u001b[1;32m~\\anaconda3\\lib\\site-packages\\pandas\\core\\frame.py\u001b[0m in \u001b[0;36m__getitem__\u001b[1;34m(self, key)\u001b[0m\n\u001b[0;32m   3456\u001b[0m             \u001b[1;32mif\u001b[0m \u001b[0mself\u001b[0m\u001b[1;33m.\u001b[0m\u001b[0mcolumns\u001b[0m\u001b[1;33m.\u001b[0m\u001b[0mnlevels\u001b[0m \u001b[1;33m>\u001b[0m \u001b[1;36m1\u001b[0m\u001b[1;33m:\u001b[0m\u001b[1;33m\u001b[0m\u001b[1;33m\u001b[0m\u001b[0m\n\u001b[0;32m   3457\u001b[0m                 \u001b[1;32mreturn\u001b[0m \u001b[0mself\u001b[0m\u001b[1;33m.\u001b[0m\u001b[0m_getitem_multilevel\u001b[0m\u001b[1;33m(\u001b[0m\u001b[0mkey\u001b[0m\u001b[1;33m)\u001b[0m\u001b[1;33m\u001b[0m\u001b[1;33m\u001b[0m\u001b[0m\n\u001b[1;32m-> 3458\u001b[1;33m             \u001b[0mindexer\u001b[0m \u001b[1;33m=\u001b[0m \u001b[0mself\u001b[0m\u001b[1;33m.\u001b[0m\u001b[0mcolumns\u001b[0m\u001b[1;33m.\u001b[0m\u001b[0mget_loc\u001b[0m\u001b[1;33m(\u001b[0m\u001b[0mkey\u001b[0m\u001b[1;33m)\u001b[0m\u001b[1;33m\u001b[0m\u001b[1;33m\u001b[0m\u001b[0m\n\u001b[0m\u001b[0;32m   3459\u001b[0m             \u001b[1;32mif\u001b[0m \u001b[0mis_integer\u001b[0m\u001b[1;33m(\u001b[0m\u001b[0mindexer\u001b[0m\u001b[1;33m)\u001b[0m\u001b[1;33m:\u001b[0m\u001b[1;33m\u001b[0m\u001b[1;33m\u001b[0m\u001b[0m\n\u001b[0;32m   3460\u001b[0m                 \u001b[0mindexer\u001b[0m \u001b[1;33m=\u001b[0m \u001b[1;33m[\u001b[0m\u001b[0mindexer\u001b[0m\u001b[1;33m]\u001b[0m\u001b[1;33m\u001b[0m\u001b[1;33m\u001b[0m\u001b[0m\n",
      "\u001b[1;32m~\\anaconda3\\lib\\site-packages\\pandas\\core\\indexes\\base.py\u001b[0m in \u001b[0;36mget_loc\u001b[1;34m(self, key, method, tolerance)\u001b[0m\n\u001b[0;32m   3361\u001b[0m                 \u001b[1;32mreturn\u001b[0m \u001b[0mself\u001b[0m\u001b[1;33m.\u001b[0m\u001b[0m_engine\u001b[0m\u001b[1;33m.\u001b[0m\u001b[0mget_loc\u001b[0m\u001b[1;33m(\u001b[0m\u001b[0mcasted_key\u001b[0m\u001b[1;33m)\u001b[0m\u001b[1;33m\u001b[0m\u001b[1;33m\u001b[0m\u001b[0m\n\u001b[0;32m   3362\u001b[0m             \u001b[1;32mexcept\u001b[0m \u001b[0mKeyError\u001b[0m \u001b[1;32mas\u001b[0m \u001b[0merr\u001b[0m\u001b[1;33m:\u001b[0m\u001b[1;33m\u001b[0m\u001b[1;33m\u001b[0m\u001b[0m\n\u001b[1;32m-> 3363\u001b[1;33m                 \u001b[1;32mraise\u001b[0m \u001b[0mKeyError\u001b[0m\u001b[1;33m(\u001b[0m\u001b[0mkey\u001b[0m\u001b[1;33m)\u001b[0m \u001b[1;32mfrom\u001b[0m \u001b[0merr\u001b[0m\u001b[1;33m\u001b[0m\u001b[1;33m\u001b[0m\u001b[0m\n\u001b[0m\u001b[0;32m   3364\u001b[0m \u001b[1;33m\u001b[0m\u001b[0m\n\u001b[0;32m   3365\u001b[0m         \u001b[1;32mif\u001b[0m \u001b[0mis_scalar\u001b[0m\u001b[1;33m(\u001b[0m\u001b[0mkey\u001b[0m\u001b[1;33m)\u001b[0m \u001b[1;32mand\u001b[0m \u001b[0misna\u001b[0m\u001b[1;33m(\u001b[0m\u001b[0mkey\u001b[0m\u001b[1;33m)\u001b[0m \u001b[1;32mand\u001b[0m \u001b[1;32mnot\u001b[0m \u001b[0mself\u001b[0m\u001b[1;33m.\u001b[0m\u001b[0mhasnans\u001b[0m\u001b[1;33m:\u001b[0m\u001b[1;33m\u001b[0m\u001b[1;33m\u001b[0m\u001b[0m\n",
      "\u001b[1;31mKeyError\u001b[0m: 'age'"
     ]
    }
   ],
   "source": []
  },
  {
   "cell_type": "code",
   "execution_count": null,
   "id": "e6a87db3-5135-4015-b569-e9d0282c2e5a",
   "metadata": {},
   "outputs": [],
   "source": []
  },
  {
   "cell_type": "code",
   "execution_count": null,
   "id": "348ea756-c2cd-43bb-b600-df9f2bae91ff",
   "metadata": {},
   "outputs": [],
   "source": []
  }
 ],
 "metadata": {
  "kernelspec": {
   "display_name": "Python 3 (ipykernel)",
   "language": "python",
   "name": "python3"
  },
  "language_info": {
   "codemirror_mode": {
    "name": "ipython",
    "version": 3
   },
   "file_extension": ".py",
   "mimetype": "text/x-python",
   "name": "python",
   "nbconvert_exporter": "python",
   "pygments_lexer": "ipython3",
   "version": "3.9.7"
  }
 },
 "nbformat": 4,
 "nbformat_minor": 5
}
